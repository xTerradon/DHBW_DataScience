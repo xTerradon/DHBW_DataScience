{
 "cells": [
  {
   "cell_type": "code",
   "execution_count": 2,
   "id": "4555b32d",
   "metadata": {},
   "outputs": [
    {
     "name": "stdout",
     "output_type": "stream",
     "text": [
      "Requirement already satisfied: pandas in c:\\users\\luisb\\appdata\\local\\programs\\python\\python310\\lib\\site-packages (2.1.1)\n",
      "Requirement already satisfied: numpy>=1.22.4 in c:\\users\\luisb\\appdata\\local\\programs\\python\\python310\\lib\\site-packages (from pandas) (1.23.4)\n",
      "Requirement already satisfied: python-dateutil>=2.8.2 in c:\\users\\luisb\\appdata\\local\\programs\\python\\python310\\lib\\site-packages (from pandas) (2.8.2)\n",
      "Requirement already satisfied: pytz>=2020.1 in c:\\users\\luisb\\appdata\\local\\programs\\python\\python310\\lib\\site-packages (from pandas) (2022.5)\n",
      "Requirement already satisfied: tzdata>=2022.1 in c:\\users\\luisb\\appdata\\local\\programs\\python\\python310\\lib\\site-packages (from pandas) (2023.3)\n",
      "Requirement already satisfied: six>=1.5 in c:\\users\\luisb\\appdata\\local\\programs\\python\\python310\\lib\\site-packages (from python-dateutil>=2.8.2->pandas) (1.16.0)\n"
     ]
    },
    {
     "name": "stderr",
     "output_type": "stream",
     "text": [
      "\n",
      "[notice] A new release of pip is available: 23.3.1 -> 24.0\n",
      "[notice] To update, run: python.exe -m pip install --upgrade pip\n"
     ]
    }
   ],
   "source": [
    "!pip install pandas"
   ]
  },
  {
   "cell_type": "code",
   "execution_count": 3,
   "id": "initial_id",
   "metadata": {
    "ExecuteTime": {
     "end_time": "2024-04-26T22:14:20.272124Z",
     "start_time": "2024-04-26T22:14:20.269051Z"
    },
    "collapsed": true
   },
   "outputs": [],
   "source": [
    "import pandas as pd"
   ]
  },
  {
   "cell_type": "code",
   "execution_count": 4,
   "id": "4e64bcf98ec74b11",
   "metadata": {
    "ExecuteTime": {
     "end_time": "2024-04-26T22:14:20.288226Z",
     "start_time": "2024-04-26T22:14:20.274098Z"
    },
    "collapsed": false
   },
   "outputs": [],
   "source": [
    "kundendaten = pd.read_csv(\"data/Kundendaten.csv\", sep=\";\", encoding=\"latin1\")\n",
    "produktdaten = pd.read_csv(\"data/Produktdaten.csv\", sep=\";\", encoding=\"latin1\")\n",
    "transaktionsdaten = pd.read_csv(\"data/Transaktionsdaten.csv\", sep=\";\", encoding=\"latin1\")"
   ]
  },
  {
   "cell_type": "code",
   "execution_count": 5,
   "id": "5a419e50f280862e",
   "metadata": {
    "ExecuteTime": {
     "end_time": "2024-04-26T22:14:20.303667Z",
     "start_time": "2024-04-26T22:14:20.290001Z"
    },
    "collapsed": false
   },
   "outputs": [],
   "source": [
    "kundendaten = kundendaten.drop(columns=[\"Datensatz_ID\"])\n",
    "kundendaten = kundendaten.dropna()\n",
    "kundendaten = kundendaten.drop_duplicates()\n",
    "kundendaten[\"Kunde_Nr\"] = kundendaten[\"Kunde_Nr\"].astype(int)\n",
    "\n",
    "kundendaten[\"Beruf\"] = kundendaten[\"Beruf\"].str.replace(r\"\\*In|\\*Innen\", \"\", case=False, regex=True)\n",
    "kundendaten[\"Beruf\"] = kundendaten[\"Beruf\"].str.replace(r\"in\", \"\", case=True, regex=True)\n",
    "kundendaten[\"Beruf\"] = kundendaten[\"Beruf\"].str.replace(r\"frau\", \"mann\", case=True, regex=True)\n",
    "kundendaten[\"Beruf\"] = kundendaten[\"Beruf\"].str.replace(r\"stud.*\", \"Student\", case=False, regex=True)\n",
    "kundendaten[\"Beruf\"] = kundendaten[\"Beruf\"].str.replace(r\"Biolog.*\", \"Biologe\", case=False, regex=True)\n",
    "kundendaten[\"Beruf\"] = kundendaten[\"Beruf\"].str.replace(r\"Mama|Papa\", \"Eltern\", case=False, regex=True)\n",
    "kundendaten[\"Beruf\"] = kundendaten[\"Beruf\"].str.replace(r\"Oma|Opa\", \"Großeltern\", case=False, regex=True)\n",
    "kundendaten[\"Beruf\"] = kundendaten[\"Beruf\"].str.replace(r\"Rechtsanw.*\", \"Rechtsanwalt\", case=False, regex=True)\n",
    "\n",
    "kundendaten[\"Geschlecht\"] = kundendaten[\"Geschlecht\"].str.replace(r\"m.*|0\", \"männlich\", case=False, regex=True)\n",
    "kundendaten[\"Geschlecht\"] = kundendaten[\"Geschlecht\"].str.replace(r\"w.*|f.*|1\", \"weiblich\", case=False, regex=True)"
   ]
  },
  {
   "cell_type": "code",
   "execution_count": 6,
   "id": "cb4d1f6dcc9ceb4b",
   "metadata": {
    "ExecuteTime": {
     "end_time": "2024-04-26T22:14:20.315957Z",
     "start_time": "2024-04-26T22:14:20.305110Z"
    },
    "collapsed": false
   },
   "outputs": [],
   "source": [
    "produktdaten = produktdaten.dropna()\n",
    "produktdaten[\"Buch_ID\"] = produktdaten[\"Buch_ID\"].astype(int)\n",
    "produktdaten[\"Preis\"] = produktdaten[\"Preis\"].str.replace(\".\",\"\", regex=False).str.replace(\",\",\".\", regex=False).astype(float)\n",
    "produktdaten = produktdaten[(produktdaten[\"Preis\"] > 0) & (produktdaten[\"Preis\"] < 1000)]\n",
    "produktdaten[\"Buch_typ\"] = produktdaten[\"Buch_typ\"].str.replace(\"hc\",\"hard cover\").replace(\"pb\",\"paperback\").replace(\"Taschenbuch\",\"paperback\")\n",
    "\n",
    "for i in produktdaten.index:\n",
    "    titel = produktdaten.loc[i,\"Titel\"]\n",
    "    if \"\\n\" in titel:\n",
    "        produktdaten.loc[i,\"Titel\"] = titel.split(\"\\n\")[0]\n",
    "    if titel[0] == \" \":\n",
    "        produktdaten.loc[i,\"Titel\"] = titel[1:]"
   ]
  },
  {
   "cell_type": "code",
   "execution_count": 7,
   "id": "f5c0cf67611177c3",
   "metadata": {
    "ExecuteTime": {
     "end_time": "2024-04-26T22:14:20.332670Z",
     "start_time": "2024-04-26T22:14:20.317435Z"
    },
    "collapsed": false
   },
   "outputs": [],
   "source": [
    "transaktionsdaten = transaktionsdaten.dropna()\n",
    "transaktionsdaten = transaktionsdaten.drop(columns=[\"Datensatz_ID\"])\n",
    "transaktionsdaten[\"Kauf_Datum\"] = transaktionsdaten[\"Kauf_Datum\"].str.replace(\" 00:00:00\", \"\").str.replace(\"1023\",\"2023\")\n",
    "transaktionsdaten[\"Kauf_Datum\"] = pd.to_datetime(transaktionsdaten[\"Kauf_Datum\"], format=\"%d.%m.%Y\", dayfirst=True)"
   ]
  },
  {
   "cell_type": "code",
   "execution_count": 8,
   "id": "118639e9002069b4",
   "metadata": {
    "ExecuteTime": {
     "end_time": "2024-04-26T22:14:20.343845Z",
     "start_time": "2024-04-26T22:14:20.334375Z"
    },
    "collapsed": false
   },
   "outputs": [],
   "source": [
    "merged_data = pd.merge(transaktionsdaten, kundendaten, left_on=\"Kunden_Nr\", right_on=\"Kunde_Nr\")\n",
    "merged_data = pd.merge(merged_data, produktdaten, on=\"Buch_ID\")\n",
    "merged_data = merged_data.drop(columns=[\"Kunde_Nr\"])"
   ]
  },
  {
   "cell_type": "code",
   "execution_count": 9,
   "id": "1c57effe18e79351",
   "metadata": {
    "ExecuteTime": {
     "end_time": "2024-04-26T22:14:20.352137Z",
     "start_time": "2024-04-26T22:14:20.346095Z"
    },
    "collapsed": false
   },
   "outputs": [
    {
     "data": {
      "text/plain": [
       "Beruf\n",
       "Hausmann        47\n",
       "Eltern          44\n",
       "Student         44\n",
       "Doktorand        9\n",
       "Rechtsanwalt     9\n",
       "Richter          2\n",
       "Elektroniker     2\n",
       "Biologe          1\n",
       "Name: count, dtype: int64"
      ]
     },
     "execution_count": 9,
     "metadata": {},
     "output_type": "execute_result"
    }
   ],
   "source": [
    "merged_data[merged_data[\"Alter\"] < 18].Beruf.value_counts()"
   ]
  },
  {
   "cell_type": "code",
   "execution_count": 10,
   "id": "d4ac528c93283378",
   "metadata": {
    "ExecuteTime": {
     "end_time": "2024-04-26T22:14:20.357967Z",
     "start_time": "2024-04-26T22:14:20.353564Z"
    },
    "collapsed": false
   },
   "outputs": [],
   "source": [
    "merged_data = merged_data[merged_data[\"Alter\"] > 0]"
   ]
  },
  {
   "cell_type": "code",
   "execution_count": 11,
   "id": "d3eef280",
   "metadata": {},
   "outputs": [
    {
     "data": {
      "text/html": [
       "<div>\n",
       "<style scoped>\n",
       "    .dataframe tbody tr th:only-of-type {\n",
       "        vertical-align: middle;\n",
       "    }\n",
       "\n",
       "    .dataframe tbody tr th {\n",
       "        vertical-align: top;\n",
       "    }\n",
       "\n",
       "    .dataframe thead th {\n",
       "        text-align: right;\n",
       "    }\n",
       "</style>\n",
       "<table border=\"1\" class=\"dataframe\">\n",
       "  <thead>\n",
       "    <tr style=\"text-align: right;\">\n",
       "      <th></th>\n",
       "      <th>Kauf_Datum</th>\n",
       "      <th>Kunden_Nr</th>\n",
       "      <th>Buch_ID</th>\n",
       "      <th>Kauf_Typ</th>\n",
       "      <th>Kunde_Name</th>\n",
       "      <th>Wohnort_Bezirk</th>\n",
       "      <th>Beruf</th>\n",
       "      <th>Geschlecht</th>\n",
       "      <th>Religionszugehörigkeit</th>\n",
       "      <th>Alter</th>\n",
       "      <th>Titel</th>\n",
       "      <th>Autor</th>\n",
       "      <th>Preis</th>\n",
       "      <th>Buch_typ</th>\n",
       "    </tr>\n",
       "  </thead>\n",
       "  <tbody>\n",
       "    <tr>\n",
       "      <th>0</th>\n",
       "      <td>2023-01-12</td>\n",
       "      <td>23393</td>\n",
       "      <td>179</td>\n",
       "      <td>spontan</td>\n",
       "      <td>Thomas Schmitt</td>\n",
       "      <td>4</td>\n",
       "      <td>Rentner</td>\n",
       "      <td>männlich</td>\n",
       "      <td>konfessionslos</td>\n",
       "      <td>72</td>\n",
       "      <td>Mittsommermord</td>\n",
       "      <td>Henning Mankell</td>\n",
       "      <td>21.0</td>\n",
       "      <td>paperback</td>\n",
       "    </tr>\n",
       "    <tr>\n",
       "      <th>1</th>\n",
       "      <td>2023-03-25</td>\n",
       "      <td>23311</td>\n",
       "      <td>179</td>\n",
       "      <td>spontan</td>\n",
       "      <td>Gudrun Wagner</td>\n",
       "      <td>4</td>\n",
       "      <td>Pensionär</td>\n",
       "      <td>weiblich</td>\n",
       "      <td>muslimisch</td>\n",
       "      <td>68</td>\n",
       "      <td>Mittsommermord</td>\n",
       "      <td>Henning Mankell</td>\n",
       "      <td>21.0</td>\n",
       "      <td>paperback</td>\n",
       "    </tr>\n",
       "    <tr>\n",
       "      <th>2</th>\n",
       "      <td>2023-02-28</td>\n",
       "      <td>23327</td>\n",
       "      <td>179</td>\n",
       "      <td>spontan</td>\n",
       "      <td>Christiane Maier</td>\n",
       "      <td>8</td>\n",
       "      <td>Pensionär</td>\n",
       "      <td>weiblich</td>\n",
       "      <td>evangelisch</td>\n",
       "      <td>70</td>\n",
       "      <td>Mittsommermord</td>\n",
       "      <td>Henning Mankell</td>\n",
       "      <td>21.0</td>\n",
       "      <td>paperback</td>\n",
       "    </tr>\n",
       "    <tr>\n",
       "      <th>3</th>\n",
       "      <td>2023-05-11</td>\n",
       "      <td>23331</td>\n",
       "      <td>179</td>\n",
       "      <td>spontan</td>\n",
       "      <td>Fritz Yilmaz</td>\n",
       "      <td>4</td>\n",
       "      <td>Großeltern</td>\n",
       "      <td>männlich</td>\n",
       "      <td>katholisch</td>\n",
       "      <td>79</td>\n",
       "      <td>Mittsommermord</td>\n",
       "      <td>Henning Mankell</td>\n",
       "      <td>21.0</td>\n",
       "      <td>paperback</td>\n",
       "    </tr>\n",
       "    <tr>\n",
       "      <th>4</th>\n",
       "      <td>2023-11-11</td>\n",
       "      <td>23372</td>\n",
       "      <td>179</td>\n",
       "      <td>spontan</td>\n",
       "      <td>Michael Schmid</td>\n",
       "      <td>4</td>\n",
       "      <td>Großeltern</td>\n",
       "      <td>männlich</td>\n",
       "      <td>katholisch</td>\n",
       "      <td>74</td>\n",
       "      <td>Mittsommermord</td>\n",
       "      <td>Henning Mankell</td>\n",
       "      <td>21.0</td>\n",
       "      <td>paperback</td>\n",
       "    </tr>\n",
       "    <tr>\n",
       "      <th>...</th>\n",
       "      <td>...</td>\n",
       "      <td>...</td>\n",
       "      <td>...</td>\n",
       "      <td>...</td>\n",
       "      <td>...</td>\n",
       "      <td>...</td>\n",
       "      <td>...</td>\n",
       "      <td>...</td>\n",
       "      <td>...</td>\n",
       "      <td>...</td>\n",
       "      <td>...</td>\n",
       "      <td>...</td>\n",
       "      <td>...</td>\n",
       "      <td>...</td>\n",
       "    </tr>\n",
       "    <tr>\n",
       "      <th>2939</th>\n",
       "      <td>2023-09-23</td>\n",
       "      <td>23434</td>\n",
       "      <td>183</td>\n",
       "      <td>vorbestellt</td>\n",
       "      <td>Franz Fassbender</td>\n",
       "      <td>4</td>\n",
       "      <td>Eltern</td>\n",
       "      <td>männlich</td>\n",
       "      <td>evangelisch</td>\n",
       "      <td>32</td>\n",
       "      <td>Geschichte Mittelstufe 8</td>\n",
       "      <td>Hilde Basler</td>\n",
       "      <td>26.0</td>\n",
       "      <td>hard cover</td>\n",
       "    </tr>\n",
       "    <tr>\n",
       "      <th>2940</th>\n",
       "      <td>2023-09-26</td>\n",
       "      <td>23471</td>\n",
       "      <td>183</td>\n",
       "      <td>vorbestellt</td>\n",
       "      <td>Kurt Zaiser</td>\n",
       "      <td>4</td>\n",
       "      <td>Eltern</td>\n",
       "      <td>männlich</td>\n",
       "      <td>evangelisch</td>\n",
       "      <td>40</td>\n",
       "      <td>Geschichte Mittelstufe 8</td>\n",
       "      <td>Hilde Basler</td>\n",
       "      <td>26.0</td>\n",
       "      <td>hard cover</td>\n",
       "    </tr>\n",
       "    <tr>\n",
       "      <th>2941</th>\n",
       "      <td>2023-09-27</td>\n",
       "      <td>23477</td>\n",
       "      <td>153</td>\n",
       "      <td>vorbestellt</td>\n",
       "      <td>Franz Huber</td>\n",
       "      <td>4</td>\n",
       "      <td>Hausmann</td>\n",
       "      <td>männlich</td>\n",
       "      <td>evangelisch</td>\n",
       "      <td>52</td>\n",
       "      <td>Mathematik Mittelstufe 8</td>\n",
       "      <td>Erwin Dridger</td>\n",
       "      <td>23.0</td>\n",
       "      <td>hard cover</td>\n",
       "    </tr>\n",
       "    <tr>\n",
       "      <th>2942</th>\n",
       "      <td>2023-09-07</td>\n",
       "      <td>23489</td>\n",
       "      <td>153</td>\n",
       "      <td>vorbestellt</td>\n",
       "      <td>Anne Zaiser</td>\n",
       "      <td>4</td>\n",
       "      <td>Eltern</td>\n",
       "      <td>weiblich</td>\n",
       "      <td>konfessionslos</td>\n",
       "      <td>58</td>\n",
       "      <td>Mathematik Mittelstufe 8</td>\n",
       "      <td>Erwin Dridger</td>\n",
       "      <td>23.0</td>\n",
       "      <td>hard cover</td>\n",
       "    </tr>\n",
       "    <tr>\n",
       "      <th>2943</th>\n",
       "      <td>2023-09-18</td>\n",
       "      <td>23473</td>\n",
       "      <td>153</td>\n",
       "      <td>vorbestellt</td>\n",
       "      <td>Leonie Eisele</td>\n",
       "      <td>4</td>\n",
       "      <td>Hausmann</td>\n",
       "      <td>weiblich</td>\n",
       "      <td>muslimisch</td>\n",
       "      <td>23</td>\n",
       "      <td>Mathematik Mittelstufe 8</td>\n",
       "      <td>Erwin Dridger</td>\n",
       "      <td>23.0</td>\n",
       "      <td>hard cover</td>\n",
       "    </tr>\n",
       "  </tbody>\n",
       "</table>\n",
       "<p>2929 rows × 14 columns</p>\n",
       "</div>"
      ],
      "text/plain": [
       "     Kauf_Datum  Kunden_Nr  Buch_ID     Kauf_Typ        Kunde_Name  \\\n",
       "0    2023-01-12      23393      179      spontan    Thomas Schmitt   \n",
       "1    2023-03-25      23311      179      spontan     Gudrun Wagner   \n",
       "2    2023-02-28      23327      179      spontan  Christiane Maier   \n",
       "3    2023-05-11      23331      179      spontan      Fritz Yilmaz   \n",
       "4    2023-11-11      23372      179      spontan    Michael Schmid   \n",
       "...         ...        ...      ...          ...               ...   \n",
       "2939 2023-09-23      23434      183  vorbestellt  Franz Fassbender   \n",
       "2940 2023-09-26      23471      183  vorbestellt       Kurt Zaiser   \n",
       "2941 2023-09-27      23477      153  vorbestellt       Franz Huber   \n",
       "2942 2023-09-07      23489      153  vorbestellt       Anne Zaiser   \n",
       "2943 2023-09-18      23473      153  vorbestellt     Leonie Eisele   \n",
       "\n",
       "      Wohnort_Bezirk       Beruf Geschlecht Religionszugehörigkeit  Alter  \\\n",
       "0                  4     Rentner   männlich         konfessionslos     72   \n",
       "1                  4   Pensionär   weiblich             muslimisch     68   \n",
       "2                  8   Pensionär   weiblich            evangelisch     70   \n",
       "3                  4  Großeltern   männlich             katholisch     79   \n",
       "4                  4  Großeltern   männlich             katholisch     74   \n",
       "...              ...         ...        ...                    ...    ...   \n",
       "2939               4      Eltern   männlich            evangelisch     32   \n",
       "2940               4      Eltern   männlich            evangelisch     40   \n",
       "2941               4    Hausmann   männlich            evangelisch     52   \n",
       "2942               4      Eltern   weiblich         konfessionslos     58   \n",
       "2943               4    Hausmann   weiblich             muslimisch     23   \n",
       "\n",
       "                         Titel            Autor  Preis    Buch_typ  \n",
       "0               Mittsommermord  Henning Mankell   21.0   paperback  \n",
       "1               Mittsommermord  Henning Mankell   21.0   paperback  \n",
       "2               Mittsommermord  Henning Mankell   21.0   paperback  \n",
       "3               Mittsommermord  Henning Mankell   21.0   paperback  \n",
       "4               Mittsommermord  Henning Mankell   21.0   paperback  \n",
       "...                        ...              ...    ...         ...  \n",
       "2939  Geschichte Mittelstufe 8     Hilde Basler   26.0  hard cover  \n",
       "2940  Geschichte Mittelstufe 8     Hilde Basler   26.0  hard cover  \n",
       "2941  Mathematik Mittelstufe 8    Erwin Dridger   23.0  hard cover  \n",
       "2942  Mathematik Mittelstufe 8    Erwin Dridger   23.0  hard cover  \n",
       "2943  Mathematik Mittelstufe 8    Erwin Dridger   23.0  hard cover  \n",
       "\n",
       "[2929 rows x 14 columns]"
      ]
     },
     "execution_count": 11,
     "metadata": {},
     "output_type": "execute_result"
    }
   ],
   "source": [
    "merged_data"
   ]
  },
  {
   "cell_type": "code",
   "execution_count": 12,
   "id": "76a0557dcf132e64",
   "metadata": {
    "ExecuteTime": {
     "end_time": "2024-04-26T22:14:20.364305Z",
     "start_time": "2024-04-26T22:14:20.359281Z"
    },
    "collapsed": false
   },
   "outputs": [],
   "source": [
    "merged_data.to_pickle(\"data/merged_data.pkl\")\n",
    "kundendaten.to_pickle(\"data/kundendaten.pkl\")\n",
    "produktdaten.to_pickle(\"data/produktdaten.pkl\")\n",
    "transaktionsdaten.to_pickle(\"data/transaktionsdaten.pkl\")"
   ]
  },
  {
   "cell_type": "code",
   "execution_count": 14,
   "id": "d6a5036d",
   "metadata": {},
   "outputs": [
    {
     "data": {
      "text/plain": [
       "Beruf\n",
       "Student                   701\n",
       "Hausmann                  448\n",
       "Eltern                    397\n",
       "Frührentner               319\n",
       "Pensionär                 271\n",
       "Großeltern                146\n",
       "Doktorand                 110\n",
       "Rentner                    79\n",
       "Ruheständler               71\n",
       "Elektroniker               52\n",
       "nicht mehr berufstätig     51\n",
       "Vorruheständler            49\n",
       "Bäcker                     35\n",
       "Chemiker                   33\n",
       "Betriebswirt               30\n",
       "Rechtsanwalt               30\n",
       "Bankkaufmann               26\n",
       "Klemptner                  20\n",
       "IT-Fachmann                16\n",
       "Metzger                    15\n",
       "Richter                    13\n",
       "Biologe                    10\n",
       "Steuerberater               4\n",
       "Altenpfleger                3\n",
       "Name: count, dtype: int64"
      ]
     },
     "execution_count": 14,
     "metadata": {},
     "output_type": "execute_result"
    }
   ],
   "source": [
    "merged_data[\"Beruf\"].value_counts()"
   ]
  }
 ],
 "metadata": {
  "kernelspec": {
   "display_name": "Python 3",
   "language": "python",
   "name": "python3"
  },
  "language_info": {
   "codemirror_mode": {
    "name": "ipython",
    "version": 3
   },
   "file_extension": ".py",
   "mimetype": "text/x-python",
   "name": "python",
   "nbconvert_exporter": "python",
   "pygments_lexer": "ipython3",
   "version": "3.10.8"
  }
 },
 "nbformat": 4,
 "nbformat_minor": 5
}
